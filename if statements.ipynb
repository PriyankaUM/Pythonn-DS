{
 "cells": [
  {
   "cell_type": "code",
   "execution_count": 6,
   "id": "816431a9",
   "metadata": {},
   "outputs": [
    {
     "name": "stdout",
     "output_type": "stream",
     "text": [
      "price900\n",
      "Buy the product\n"
     ]
    }
   ],
   "source": [
    "###if else\n",
    "# buy a product or not\n",
    "x= int(input('price'))\n",
    "budget=1000\n",
    "if (x<budget):\n",
    "    print(\"Buy the product\")\n",
    "else:\n",
    "    print(\"Do not buy\")"
   ]
  },
  {
   "cell_type": "code",
   "execution_count": 10,
   "id": "1c51ed0c",
   "metadata": {},
   "outputs": [
    {
     "name": "stdout",
     "output_type": "stream",
     "text": [
      "enter the price150\n",
      "low price\n",
      "recommended products\n"
     ]
    }
   ],
   "source": [
    "##if elif\n",
    "x= int(input(\"enter the price\"))\n",
    "if (x<300):\n",
    "    print(\"low price\")\n",
    "    if(x<150):\n",
    "        print(\"category1 products\")\n",
    "    elif(x>150):\n",
    "        print(\"category2 products\")\n",
    "    else:\n",
    "        print(\"recommended products\") # executes when the price is == equal to 150\n",
    "else:\n",
    "    print(\"expensive products\")\n",
    "    \n",
    "    "
   ]
  },
  {
   "cell_type": "code",
   "execution_count": 15,
   "id": "48c45a98",
   "metadata": {},
   "outputs": [
    {
     "name": "stdout",
     "output_type": "stream",
     "text": [
      "enter first number50\n",
      "enter second number2\n",
      "enter math operation4\n",
      "25\n"
     ]
    }
   ],
   "source": [
    "num1= int(input(\"enter first number\"))\n",
    "num2= int(input(\"enter second number\"))\n",
    "task= int(input(\"enter math operation\"))\n",
    "if(task==1):\n",
    "    addition=(num1+num2)\n",
    "    print(addition)\n",
    "elif(task==2):\n",
    "    subtration=(num1-num2)\n",
    "    print(subtration)\n",
    "elif(task==3):\n",
    "    multiplication=(num1*num2)\n",
    "    print(multiplication)\n",
    "elif(task==4):\n",
    "    division=(num1//num2)\n",
    "    print(division)\n",
    "else:\n",
    "    print(\"invalid input-choose from 1 to 4\")\n",
    "        "
   ]
  },
  {
   "cell_type": "code",
   "execution_count": 16,
   "id": "1c97e077",
   "metadata": {},
   "outputs": [
    {
     "name": "stdout",
     "output_type": "stream",
     "text": [
      "1\n",
      "3\n",
      "5\n",
      "7\n",
      "9\n",
      "11\n"
     ]
    }
   ],
   "source": [
    "count = 0\n",
    "while(count<11):\n",
    "    count = count + 1\n",
    "    if(count%2 == 0):\n",
    "        continue\n",
    "    print(count)"
   ]
  },
  {
   "cell_type": "code",
   "execution_count": 18,
   "id": "148774e1",
   "metadata": {},
   "outputs": [
    {
     "name": "stdout",
     "output_type": "stream",
     "text": [
      "priyanka\n"
     ]
    }
   ],
   "source": [
    "print(\"priyanka\")"
   ]
  },
  {
   "cell_type": "code",
   "execution_count": 19,
   "id": "198fc71e",
   "metadata": {},
   "outputs": [
    {
     "name": "stdout",
     "output_type": "stream",
     "text": [
      "10\n",
      "9\n",
      "8\n",
      "7\n",
      "6\n",
      "5\n",
      "4\n",
      "3\n",
      "2\n",
      "1\n"
     ]
    }
   ],
   "source": [
    "x = 10\n",
    "while(x>=1):\n",
    "    print(x)\n",
    "    x -= 1"
   ]
  },
  {
   "cell_type": "code",
   "execution_count": 20,
   "id": "db3d87d7",
   "metadata": {},
   "outputs": [
    {
     "name": "stdout",
     "output_type": "stream",
     "text": [
      "se\n",
      "Data analyst\n",
      "developer\n"
     ]
    }
   ],
   "source": [
    "#  the odd one out in the list\n",
    "profession=('se','Data analyst','developer','chef')\n",
    "for i in profession:\n",
    "    if (i=='chef'):\n",
    "        continue\n",
    "    print(i)\n",
    "    \n",
    "    "
   ]
  },
  {
   "cell_type": "markdown",
   "id": "d5911c1a",
   "metadata": {},
   "source": [
    "# break\n",
    "break keyword is used to break out of the loop or come out of the loop"
   ]
  },
  {
   "cell_type": "code",
   "execution_count": 1,
   "id": "992ca4ed",
   "metadata": {},
   "outputs": [
    {
     "name": "stdout",
     "output_type": "stream",
     "text": [
      "1\n",
      "2\n",
      "3\n",
      "4\n",
      "5\n"
     ]
    }
   ],
   "source": [
    "# if count has reached 5 then break\n",
    "count = 1\n",
    "while(count<11):\n",
    "    if(count == 5):\n",
    "        print(count)\n",
    "        break\n",
    "    else:\n",
    "        print(count)\n",
    "        count = count + 1"
   ]
  },
  {
   "cell_type": "raw",
   "id": "067cf3dc",
   "metadata": {},
   "source": [
    "For loops:\n",
    "For loops are basically used to loop over a sequence.\n",
    "Sequence can be anything like strings,Lists,Tuples,Dictionaries,Sets etc"
   ]
  },
  {
   "cell_type": "code",
   "execution_count": null,
   "id": "b5c2e873",
   "metadata": {},
   "outputs": [],
   "source": [
    "\"\"\"\n",
    "syntax\n",
    "\n",
    "for item in seq:\n",
    "    statements....\n",
    "\"\"\""
   ]
  },
  {
   "cell_type": "code",
   "execution_count": 5,
   "id": "74424d69",
   "metadata": {},
   "outputs": [
    {
     "name": "stdout",
     "output_type": "stream",
     "text": [
      "tom\n",
      "jerry\n",
      "pal\n"
     ]
    }
   ],
   "source": [
    "mybuddies=(\"tom\",\"jerry\",\"pal\")   ## similar with list or eith string-- str=\"uyio\"\n",
    "for i in mybuddies:\n",
    "    print(i)\n"
   ]
  },
  {
   "cell_type": "raw",
   "id": "cb85b890",
   "metadata": {},
   "source": [
    "range(start,stop,step):\n",
    "The range() function is used to generate a sequence of numbers over time\n",
    "# start = starting position (default value is 0)\n",
    "# stop = end position(exclusive) (default value is end position)\n",
    "# step = step size or increment size (default value is 1)\n",
    "\n",
    "# range(10) -> 10 is the stop parameter\n",
    "# range(1,10) -> 1 is start,10 is stop\n",
    "# range(1,10,2) -> 1 is start,10 is stop,2 is step"
   ]
  },
  {
   "cell_type": "code",
   "execution_count": 6,
   "id": "692f09ac",
   "metadata": {},
   "outputs": [
    {
     "name": "stdout",
     "output_type": "stream",
     "text": [
      "0\n",
      "1\n",
      "2\n",
      "3\n",
      "7\n",
      "8\n",
      "9\n"
     ]
    }
   ],
   "source": [
    "# using continue in for loops\n",
    "# say you dont want to print 4,5,6\n",
    "for i in range(10):\n",
    "    if(i==4 or i == 5 or i == 6):\n",
    "        continue\n",
    "    print(i)"
   ]
  },
  {
   "cell_type": "raw",
   "id": "f3f58ffb",
   "metadata": {},
   "source": [
    "pass:\n",
    "\n",
    "pass keyword does nothing but you can avoid getting an error when empty code is not allowed. Empty code is not allowed in loops,if else conditions,functions,Classes etc"
   ]
  },
  {
   "cell_type": "code",
   "execution_count": null,
   "id": "54662dfe",
   "metadata": {},
   "outputs": [],
   "source": []
  }
 ],
 "metadata": {
  "kernelspec": {
   "display_name": "Python 3",
   "language": "python",
   "name": "python3"
  },
  "language_info": {
   "codemirror_mode": {
    "name": "ipython",
    "version": 3
   },
   "file_extension": ".py",
   "mimetype": "text/x-python",
   "name": "python",
   "nbconvert_exporter": "python",
   "pygments_lexer": "ipython3",
   "version": "3.8.8"
  }
 },
 "nbformat": 4,
 "nbformat_minor": 5
}
