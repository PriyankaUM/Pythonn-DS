{
 "cells": [
  {
   "cell_type": "markdown",
   "id": "b8b6a829",
   "metadata": {},
   "source": [
    "# Lambda Functions\n",
    "A lambda function is a small anonymous function.\n",
    "A lambda function can take any number of arguments, but can only have one expression.\n",
    "They are mostly used along with map and filter functions"
   ]
  },
  {
   "cell_type": "code",
   "execution_count": null,
   "id": "c79dfa90",
   "metadata": {},
   "outputs": [],
   "source": [
    "# Syntax\n",
    "# lambda arguments : expression"
   ]
  },
  {
   "cell_type": "code",
   "execution_count": 1,
   "id": "014102e5",
   "metadata": {},
   "outputs": [
    {
     "data": {
      "text/plain": [
       "8"
      ]
     },
     "execution_count": 1,
     "metadata": {},
     "output_type": "execute_result"
    }
   ],
   "source": [
    "def add(num1,num2):\n",
    "    return num1+num2\n",
    "add(3,5)"
   ]
  },
  {
   "cell_type": "code",
   "execution_count": 3,
   "id": "f2e1e8d4",
   "metadata": {},
   "outputs": [
    {
     "data": {
      "text/plain": [
       "9"
      ]
     },
     "execution_count": 3,
     "metadata": {},
     "output_type": "execute_result"
    }
   ],
   "source": [
    "add=lambda num1,num2:num1+num2\n",
    "add(6,3)"
   ]
  },
  {
   "cell_type": "markdown",
   "id": "e7dec680",
   "metadata": {},
   "source": [
    "# Map function\n",
    "The map function allows you to \"map\" a function to an iterable object.\n",
    "It returns map object"
   ]
  },
  {
   "cell_type": "code",
   "execution_count": null,
   "id": "3c446704",
   "metadata": {},
   "outputs": [],
   "source": [
    "\"\"\"\n",
    "syntax ---->\n",
    "map(function,sequence)\n",
    "\"\"\""
   ]
  },
  {
   "cell_type": "code",
   "execution_count": 9,
   "id": "a218d938",
   "metadata": {},
   "outputs": [
    {
     "data": {
      "text/plain": [
       "[1, 2, 3, 4, 5]"
      ]
     },
     "execution_count": 9,
     "metadata": {},
     "output_type": "execute_result"
    }
   ],
   "source": [
    "# sequence\n",
    "my_nums = [1,2,3,4,5]\n",
    "my_nums"
   ]
  },
  {
   "cell_type": "code",
   "execution_count": 7,
   "id": "53b512c7",
   "metadata": {},
   "outputs": [
    {
     "data": {
      "text/plain": [
       "9"
      ]
     },
     "execution_count": 7,
     "metadata": {},
     "output_type": "execute_result"
    }
   ],
   "source": [
    "#function to square a number\n",
    "def square(num):\n",
    "    return num**2\n",
    "square(3)"
   ]
  },
  {
   "cell_type": "code",
   "execution_count": 10,
   "id": "5bcf82f7",
   "metadata": {
    "scrolled": true
   },
   "outputs": [
    {
     "data": {
      "text/plain": [
       "<map at 0x1e52ba71100>"
      ]
     },
     "execution_count": 10,
     "metadata": {},
     "output_type": "execute_result"
    }
   ],
   "source": [
    "#map\n",
    "map(square,my_nums)"
   ]
  },
  {
   "cell_type": "code",
   "execution_count": 11,
   "id": "2e00421b",
   "metadata": {},
   "outputs": [
    {
     "name": "stdout",
     "output_type": "stream",
     "text": [
      "1\n",
      "4\n",
      "9\n",
      "16\n",
      "25\n"
     ]
    }
   ],
   "source": [
    "# To get the results, either iterate through mapobj \n",
    "for item in map(square,my_nums):\n",
    "    print(item)"
   ]
  },
  {
   "cell_type": "code",
   "execution_count": 12,
   "id": "39602c87",
   "metadata": {},
   "outputs": [
    {
     "data": {
      "text/plain": [
       "[1, 4, 9, 16, 25]"
      ]
     },
     "execution_count": 12,
     "metadata": {},
     "output_type": "execute_result"
    }
   ],
   "source": [
    "list(map(square,my_nums))"
   ]
  },
  {
   "cell_type": "code",
   "execution_count": null,
   "id": "b429141e",
   "metadata": {},
   "outputs": [],
   "source": [
    "\"\"\"\n",
    "about filter function\n",
    "\n",
    "syntax ---->\n",
    "filter(function,sequence)\n",
    "\n",
    "it applies the function to all the elements in the sequences and \n",
    "retains only those elements which passes the specific conditions\n",
    "\n",
    "returns the filter object\n",
    "\"\"\""
   ]
  },
  {
   "cell_type": "code",
   "execution_count": 15,
   "id": "0fabda81",
   "metadata": {},
   "outputs": [
    {
     "data": {
      "text/plain": [
       "['apple', 'banana', 'airport', 'ant', 'cat']"
      ]
     },
     "execution_count": 15,
     "metadata": {},
     "output_type": "execute_result"
    }
   ],
   "source": [
    "words_list = ['apple','banana','airport','ant','cat'] #sequence (list)\n",
    "words_list"
   ]
  },
  {
   "cell_type": "code",
   "execution_count": 18,
   "id": "fdb92665",
   "metadata": {},
   "outputs": [
    {
     "data": {
      "text/plain": [
       "True"
      ]
     },
     "execution_count": 18,
     "metadata": {},
     "output_type": "execute_result"
    }
   ],
   "source": [
    "# function\n",
    "def starts_with_a(word):\n",
    "    if(word[0] == 'a'):\n",
    "        return True\n",
    "    else:\n",
    "        return False\n",
    "starts_with_a('apple')"
   ]
  },
  {
   "cell_type": "code",
   "execution_count": 19,
   "id": "5bb5ca3c",
   "metadata": {},
   "outputs": [
    {
     "data": {
      "text/plain": [
       "['apple', 'airport', 'ant']"
      ]
     },
     "execution_count": 19,
     "metadata": {},
     "output_type": "execute_result"
    }
   ],
   "source": [
    "list(filter(starts_with_a,words_list))"
   ]
  },
  {
   "cell_type": "code",
   "execution_count": 20,
   "id": "f66655a1",
   "metadata": {},
   "outputs": [
    {
     "data": {
      "text/plain": [
       "[1, 4, 9, 16, 25]"
      ]
     },
     "execution_count": 20,
     "metadata": {},
     "output_type": "execute_result"
    }
   ],
   "source": [
    "# sequence\n",
    "my_nums = [1,2,3,4,5]\n",
    "\n",
    "# lambda with map function\n",
    "list(map(lambda num:num**2,my_nums))"
   ]
  },
  {
   "cell_type": "markdown",
   "id": "e990aaab",
   "metadata": {},
   "source": [
    "# zip()\n"
   ]
  },
  {
   "cell_type": "raw",
   "id": "88301c4a",
   "metadata": {},
   "source": [
    "The zip() function returns a zip object, which is an iterator of tuples where the first item in each passed iterator is paired together, and then the second item in each passed iterator are paired together etc.\n",
    "\n",
    "If the passed iterators have different lengths, the iterator with the least items decides the length of the new iterator."
   ]
  },
  {
   "cell_type": "code",
   "execution_count": null,
   "id": "8f510662",
   "metadata": {},
   "outputs": [],
   "source": [
    "zip(iterator1, iterator2, iterator3 ...) #zip(a,b) where a and b each contains a list of elemetns "
   ]
  },
  {
   "cell_type": "code",
   "execution_count": 2,
   "id": "f41c92fd",
   "metadata": {},
   "outputs": [
    {
     "data": {
      "text/plain": [
       "<zip at 0x25b88ca42c0>"
      ]
     },
     "execution_count": 2,
     "metadata": {},
     "output_type": "execute_result"
    }
   ],
   "source": [
    "a = (\"John\", \"Charles\", \"Mike\")\n",
    "b = (\"Jenny\", \"Christy\", \"Monica\", \"Vicky\")\n",
    "x = zip(a, b)\n",
    "x"
   ]
  },
  {
   "cell_type": "code",
   "execution_count": 24,
   "id": "f9091751",
   "metadata": {},
   "outputs": [
    {
     "name": "stdout",
     "output_type": "stream",
     "text": [
      "<zip object at 0x000001E52BB58D00>\n"
     ]
    }
   ],
   "source": [
    "print(x)"
   ]
  },
  {
   "cell_type": "code",
   "execution_count": 3,
   "id": "82e4938e",
   "metadata": {},
   "outputs": [
    {
     "name": "stdout",
     "output_type": "stream",
     "text": [
      "(('John', 'Jenny'), ('Charles', 'Christy'), ('Mike', 'Monica'))\n"
     ]
    }
   ],
   "source": [
    "print(tuple(x)) #use the tuple() function to display a \n",
    "                 #readable version of the result:"
   ]
  },
  {
   "cell_type": "code",
   "execution_count": null,
   "id": "41bb6e64",
   "metadata": {},
   "outputs": [],
   "source": []
  }
 ],
 "metadata": {
  "kernelspec": {
   "display_name": "Python 3",
   "language": "python",
   "name": "python3"
  },
  "language_info": {
   "codemirror_mode": {
    "name": "ipython",
    "version": 3
   },
   "file_extension": ".py",
   "mimetype": "text/x-python",
   "name": "python",
   "nbconvert_exporter": "python",
   "pygments_lexer": "ipython3",
   "version": "3.8.8"
  }
 },
 "nbformat": 4,
 "nbformat_minor": 5
}
