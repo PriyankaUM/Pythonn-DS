{
 "cells": [
  {
   "cell_type": "code",
   "execution_count": 1,
   "id": "39eb01b4",
   "metadata": {},
   "outputs": [],
   "source": [
    "## functions\n",
    "def add(x,y):\n",
    "    z = x + y\n",
    "    return z  # The statements after the return statements are not executed.\n",
    "    print(z)"
   ]
  },
  {
   "cell_type": "code",
   "execution_count": 2,
   "id": "9aaac1d3",
   "metadata": {},
   "outputs": [
    {
     "data": {
      "text/plain": [
       "17"
      ]
     },
     "execution_count": 2,
     "metadata": {},
     "output_type": "execute_result"
    }
   ],
   "source": [
    "add(9,8)"
   ]
  },
  {
   "cell_type": "code",
   "execution_count": 3,
   "id": "a062cd14",
   "metadata": {},
   "outputs": [
    {
     "ename": "SyntaxError",
     "evalue": "invalid syntax (<ipython-input-3-43b74b714778>, line 6)",
     "output_type": "error",
     "traceback": [
      "\u001b[1;36m  File \u001b[1;32m\"<ipython-input-3-43b74b714778>\"\u001b[1;36m, line \u001b[1;32m6\u001b[0m\n\u001b[1;33m    .\u001b[0m\n\u001b[1;37m    ^\u001b[0m\n\u001b[1;31mSyntaxError\u001b[0m\u001b[1;31m:\u001b[0m invalid syntax\n"
     ]
    }
   ],
   "source": [
    "##A return statement is used to end the execution of the \n",
    "#function call and “returns” the result (value of the expression following the return keyword) to the caller.\n",
    "#syntax:\n",
    "#def fun():\n",
    "    statements\n",
    "    .\n",
    "    .\n",
    "    return [expression]"
   ]
  },
  {
   "cell_type": "code",
   "execution_count": 4,
   "id": "a8771c25",
   "metadata": {},
   "outputs": [
    {
     "name": "stdout",
     "output_type": "stream",
     "text": [
      "110\n"
     ]
    }
   ],
   "source": [
    "def mul():\n",
    "    x= 10\n",
    "    y=11\n",
    "    z=x*y\n",
    "    print(z)\n",
    "mul()   #  call the function that is defined"
   ]
  },
  {
   "cell_type": "code",
   "execution_count": 5,
   "id": "443edf99",
   "metadata": {},
   "outputs": [
    {
     "ename": "TypeError",
     "evalue": "mul() takes 0 positional arguments but 2 were given",
     "output_type": "error",
     "traceback": [
      "\u001b[1;31m---------------------------------------------------------------------------\u001b[0m",
      "\u001b[1;31mTypeError\u001b[0m                                 Traceback (most recent call last)",
      "\u001b[1;32m<ipython-input-5-971878907530>\u001b[0m in \u001b[0;36m<module>\u001b[1;34m\u001b[0m\n\u001b[1;32m----> 1\u001b[1;33m \u001b[0mmul\u001b[0m\u001b[1;33m(\u001b[0m\u001b[1;36m20\u001b[0m\u001b[1;33m,\u001b[0m\u001b[1;36m30\u001b[0m\u001b[1;33m)\u001b[0m\u001b[1;33m\u001b[0m\u001b[1;33m\u001b[0m\u001b[0m\n\u001b[0m",
      "\u001b[1;31mTypeError\u001b[0m: mul() takes 0 positional arguments but 2 were given"
     ]
    }
   ],
   "source": [
    "mul(20,30) # error as the fucntion is not define or pass the parameters"
   ]
  },
  {
   "cell_type": "code",
   "execution_count": 6,
   "id": "58b54dcd",
   "metadata": {},
   "outputs": [
    {
     "data": {
      "text/plain": [
       "3"
      ]
     },
     "execution_count": 6,
     "metadata": {},
     "output_type": "execute_result"
    }
   ],
   "source": [
    "def div(x,y):\n",
    "    z= x//y\n",
    "    return z\n",
    "div(9,3)\n"
   ]
  },
  {
   "cell_type": "code",
   "execution_count": null,
   "id": "10a352f6",
   "metadata": {},
   "outputs": [],
   "source": [
    "#Task 11.2:\n",
    "##Ask 2 numbers from users and store it in num1 and num2\n",
    "##Ask user to press 1 for addition,2 for subtraction,3 for multiplication and 4 for division\n",
    "##create 4 seperate functions for each operation (i.e. addition,subtraction,multiplication and division)\n",
    "#based on number given by user,call that perticular function and print the output\n"
   ]
  },
  {
   "cell_type": "code",
   "execution_count": 17,
   "id": "4f22621c",
   "metadata": {},
   "outputs": [
    {
     "name": "stdout",
     "output_type": "stream",
     "text": [
      "enter first number3\n",
      "enter second number3\n",
      "press 1 for add, 2 for sub,3 for mul, 4 for div 1\n"
     ]
    }
   ],
   "source": [
    "num1= int(input(\"enter first number\"))\n",
    "num2= int(input(\"enter second number\"))\n",
    "z= int(input(\"press 1 for add, 2 for sub,3 for mul, 4 for div \"))\n",
    "def add():\n",
    "    add= num1+num2\n",
    " \n",
    "    \n",
    "        "
   ]
  },
  {
   "cell_type": "code",
   "execution_count": 20,
   "id": "eecbb7c6",
   "metadata": {},
   "outputs": [
    {
     "name": "stdout",
     "output_type": "stream",
     "text": [
      "enter first number 38\n",
      "enter second number 40\n",
      "enter math operation3\n",
      "1520\n"
     ]
    }
   ],
   "source": [
    "def add(x,y):   \n",
    "    return x+y  # returns the value of that  function\n",
    "def sub(x,y):\n",
    "    return x-y\n",
    "def mul(x,y):\n",
    "    return x*y\n",
    "def div(x,y):\n",
    "    return x//y\n",
    "\n",
    "num1= int(input(\"enter first number \"))\n",
    "num2= int(input(\"enter second number \"))\n",
    "z= int(input(\"enter math operation\"))\n",
    "if (z==1):\n",
    "    result_a= add(num1,num2)  # to call the user defined func add(x,y)\n",
    "    print(result_a)\n",
    "elif (z==2):\n",
    "    result_b= sub(num1,num2)\n",
    "    print(result_b)\n",
    "elif (z==3):\n",
    "    result_c= mul(num1,num2)\n",
    "    print(result_c)\n",
    "elif (z==4):\n",
    "    result_d= div(num1,num2)\n",
    "    print(result_d)\n",
    "else:\n",
    "    print(\"inavlid input\")\n",
    "    \n"
   ]
  },
  {
   "cell_type": "code",
   "execution_count": null,
   "id": "e56ce1aa",
   "metadata": {},
   "outputs": [],
   "source": []
  },
  {
   "cell_type": "code",
   "execution_count": null,
   "id": "3199d784",
   "metadata": {},
   "outputs": [],
   "source": []
  }
 ],
 "metadata": {
  "kernelspec": {
   "display_name": "Python 3",
   "language": "python",
   "name": "python3"
  },
  "language_info": {
   "codemirror_mode": {
    "name": "ipython",
    "version": 3
   },
   "file_extension": ".py",
   "mimetype": "text/x-python",
   "name": "python",
   "nbconvert_exporter": "python",
   "pygments_lexer": "ipython3",
   "version": "3.8.8"
  }
 },
 "nbformat": 4,
 "nbformat_minor": 5
}
